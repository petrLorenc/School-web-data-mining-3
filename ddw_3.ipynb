{
 "cells": [
  {
   "cell_type": "raw",
   "metadata": {},
   "source": [
    "Data from https://www.engadget.com/2017/04/07/king-call-of-duty-mobile-game/\n",
    "Data from https://www.engadget.com/2017/04/08/youtube-tv-made-this-baseball-fan-finally-cut-the-cord/\n",
    "Data from https://medium.com/personal-growth/j-k-rowling-how-to-deal-with-failure-ff8c7cb0048"
   ]
  },
  {
   "cell_type": "code",
   "execution_count": 1,
   "metadata": {
    "collapsed": true
   },
   "outputs": [],
   "source": [
    "import wikipedia\n",
    "import nltk\n",
    "from collections import Counter"
   ]
  },
  {
   "cell_type": "code",
   "execution_count": 2,
   "metadata": {
    "collapsed": false
   },
   "outputs": [],
   "source": [
    "# get first np chunk from tree maked in function call_wikipedia\n",
    "def get_first_np(tree):\n",
    "    for subtree in tree.subtrees():\n",
    "        if subtree.label() == 'NP':\n",
    "            return ' '.join(word for word, tag in subtree.leaves() if (tag not in [\"VBZ\",\"VB\",\"VBD\",\"VBG\",\"VBN\"]))\n",
    "\n",
    "# get all np\n",
    "def get_all_np(tree):\n",
    "    entities = []\n",
    "    for subtree in tree.subtrees():\n",
    "        if subtree.label() == 'NP':\n",
    "            entities.append(' '.join(word for word, tag in subtree.leaves()))\n",
    "    return entities"
   ]
  },
  {
   "cell_type": "raw",
   "metadata": {},
   "source": [
    "NLTK provides a classifier that has already been trained to recognize named entities, accessed with the function nltk.ne_chunk(). If we set the parameter binary=True [1], then named entities are just tagged as NE; otherwise, the classifier adds category labels such as PERSON, ORGANIZATION, and GPE."
   ]
  },
  {
   "cell_type": "code",
   "execution_count": 3,
   "metadata": {
    "collapsed": false
   },
   "outputs": [],
   "source": [
    "#call wikipedia and process summary\n",
    "def call_wikipedia(query_noun):\n",
    "    try:\n",
    "        summary = wikipedia.page(wikipedia.search(query_noun)[0]).summary\n",
    "    except:\n",
    "        return \"Thing\"\n",
    "    tokens = nltk.word_tokenize(summary)\n",
    "    tagged = nltk.pos_tag(tokens) \n",
    "    ne_chunked = nltk.ne_chunk(tagged, binary=True)\n",
    "    return get_first_np(nltk.RegexpParser(r\"NP: {<VBZ|VB|VBD|VBG|VBN><DT>+<JJ|NE>*<NN>*}\").parse(ne_chunked))"
   ]
  },
  {
   "cell_type": "code",
   "execution_count": 4,
   "metadata": {
    "collapsed": true
   },
   "outputs": [],
   "source": [
    "def get_sorted_counts(tokens):\n",
    "    c = Counter(tokens)\n",
    "    return sorted(c.items(), key=lambda count:count[1], reverse=True)"
   ]
  },
  {
   "cell_type": "code",
   "execution_count": 5,
   "metadata": {
    "collapsed": true
   },
   "outputs": [
    {
     "name": "stdout",
     "output_type": "stream",
     "text": [
      "$: dollar\n",
      "    $ -$ --$ A$ C$ HK$ M$ NZ$ S$ U.S.$ US$\n",
      "'': closing quotation mark\n",
      "    ' ''\n",
      "(: opening parenthesis\n",
      "    ( [ {\n",
      "): closing parenthesis\n",
      "    ) ] }\n",
      ",: comma\n",
      "    ,\n",
      "--: dash\n",
      "    --\n",
      ".: sentence terminator\n",
      "    . ! ?\n",
      ":: colon or ellipsis\n",
      "    : ; ...\n",
      "CC: conjunction, coordinating\n",
      "    & 'n and both but either et for less minus neither nor or plus so\n",
      "    therefore times v. versus vs. whether yet\n",
      "CD: numeral, cardinal\n",
      "    mid-1890 nine-thirty forty-two one-tenth ten million 0.5 one forty-\n",
      "    seven 1987 twenty '79 zero two 78-degrees eighty-four IX '60s .025\n",
      "    fifteen 271,124 dozen quintillion DM2,000 ...\n",
      "DT: determiner\n",
      "    all an another any both del each either every half la many much nary\n",
      "    neither no some such that the them these this those\n",
      "EX: existential there\n",
      "    there\n",
      "FW: foreign word\n",
      "    gemeinschaft hund ich jeux habeas Haementeria Herr K'ang-si vous\n",
      "    lutihaw alai je jour objets salutaris fille quibusdam pas trop Monte\n",
      "    terram fiche oui corporis ...\n",
      "IN: preposition or conjunction, subordinating\n",
      "    astride among uppon whether out inside pro despite on by throughout\n",
      "    below within for towards near behind atop around if like until below\n",
      "    next into if beside ...\n",
      "JJ: adjective or numeral, ordinal\n",
      "    third ill-mannered pre-war regrettable oiled calamitous first separable\n",
      "    ectoplasmic battery-powered participatory fourth still-to-be-named\n",
      "    multilingual multi-disciplinary ...\n",
      "JJR: adjective, comparative\n",
      "    bleaker braver breezier briefer brighter brisker broader bumper busier\n",
      "    calmer cheaper choosier cleaner clearer closer colder commoner costlier\n",
      "    cozier creamier crunchier cuter ...\n",
      "JJS: adjective, superlative\n",
      "    calmest cheapest choicest classiest cleanest clearest closest commonest\n",
      "    corniest costliest crassest creepiest crudest cutest darkest deadliest\n",
      "    dearest deepest densest dinkiest ...\n",
      "LS: list item marker\n",
      "    A A. B B. C C. D E F First G H I J K One SP-44001 SP-44002 SP-44005\n",
      "    SP-44007 Second Third Three Two * a b c d first five four one six three\n",
      "    two\n",
      "MD: modal auxiliary\n",
      "    can cannot could couldn't dare may might must need ought shall should\n",
      "    shouldn't will would\n",
      "NN: noun, common, singular or mass\n",
      "    common-carrier cabbage knuckle-duster Casino afghan shed thermostat\n",
      "    investment slide humour falloff slick wind hyena override subhumanity\n",
      "    machinist ...\n",
      "NNP: noun, proper, singular\n",
      "    Motown Venneboerger Czestochwa Ranzer Conchita Trumplane Christos\n",
      "    Oceanside Escobar Kreisler Sawyer Cougar Yvette Ervin ODI Darryl CTCA\n",
      "    Shannon A.K.C. Meltex Liverpool ...\n",
      "NNPS: noun, proper, plural\n",
      "    Americans Americas Amharas Amityvilles Amusements Anarcho-Syndicalists\n",
      "    Andalusians Andes Andruses Angels Animals Anthony Antilles Antiques\n",
      "    Apache Apaches Apocrypha ...\n",
      "NNS: noun, common, plural\n",
      "    undergraduates scotches bric-a-brac products bodyguards facets coasts\n",
      "    divestitures storehouses designs clubs fragrances averages\n",
      "    subjectivists apprehensions muses factory-jobs ...\n",
      "PDT: pre-determiner\n",
      "    all both half many quite such sure this\n",
      "POS: genitive marker\n",
      "    ' 's\n",
      "PRP: pronoun, personal\n",
      "    hers herself him himself hisself it itself me myself one oneself ours\n",
      "    ourselves ownself self she thee theirs them themselves they thou thy us\n",
      "PRP$: pronoun, possessive\n",
      "    her his mine my our ours their thy your\n",
      "RB: adverb\n",
      "    occasionally unabatingly maddeningly adventurously professedly\n",
      "    stirringly prominently technologically magisterially predominately\n",
      "    swiftly fiscally pitilessly ...\n",
      "RBR: adverb, comparative\n",
      "    further gloomier grander graver greater grimmer harder harsher\n",
      "    healthier heavier higher however larger later leaner lengthier less-\n",
      "    perfectly lesser lonelier longer louder lower more ...\n",
      "RBS: adverb, superlative\n",
      "    best biggest bluntest earliest farthest first furthest hardest\n",
      "    heartiest highest largest least less most nearest second tightest worst\n",
      "RP: particle\n",
      "    aboard about across along apart around aside at away back before behind\n",
      "    by crop down ever fast for forth from go high i.e. in into just later\n",
      "    low more off on open out over per pie raising start teeth that through\n",
      "    under unto up up-pp upon whole with you\n",
      "SYM: symbol\n",
      "    % & ' '' ''. ) ). * + ,. < = > @ A[fj] U.S U.S.S.R * ** ***\n",
      "TO: \"to\" as preposition or infinitive marker\n",
      "    to\n",
      "UH: interjection\n",
      "    Goodbye Goody Gosh Wow Jeepers Jee-sus Hubba Hey Kee-reist Oops amen\n",
      "    huh howdy uh dammit whammo shucks heck anyways whodunnit honey golly\n",
      "    man baby diddle hush sonuvabitch ...\n",
      "VB: verb, base form\n",
      "    ask assemble assess assign assume atone attention avoid bake balkanize\n",
      "    bank begin behold believe bend benefit bevel beware bless boil bomb\n",
      "    boost brace break bring broil brush build ...\n",
      "VBD: verb, past tense\n",
      "    dipped pleaded swiped regummed soaked tidied convened halted registered\n",
      "    cushioned exacted snubbed strode aimed adopted belied figgered\n",
      "    speculated wore appreciated contemplated ...\n",
      "VBG: verb, present participle or gerund\n",
      "    telegraphing stirring focusing angering judging stalling lactating\n",
      "    hankerin' alleging veering capping approaching traveling besieging\n",
      "    encrypting interrupting erasing wincing ...\n",
      "VBN: verb, past participle\n",
      "    multihulled dilapidated aerosolized chaired languished panelized used\n",
      "    experimented flourished imitated reunifed factored condensed sheared\n",
      "    unsettled primed dubbed desired ...\n",
      "VBP: verb, present tense, not 3rd person singular\n",
      "    predominate wrap resort sue twist spill cure lengthen brush terminate\n",
      "    appear tend stray glisten obtain comprise detest tease attract\n",
      "    emphasize mold postpone sever return wag ...\n",
      "VBZ: verb, present tense, 3rd person singular\n",
      "    bases reconstructs marks mixes displeases seals carps weaves snatches\n",
      "    slumps stretches authorizes smolders pictures emerges stockpiles\n",
      "    seduces fizzes uses bolsters slaps speaks pleads ...\n",
      "WDT: WH-determiner\n",
      "    that what whatever which whichever\n",
      "WP: WH-pronoun\n",
      "    that what whatever whatsoever which who whom whosoever\n",
      "WP$: WH-pronoun, possessive\n",
      "    whose\n",
      "WRB: Wh-adverb\n",
      "    how however whence whenever where whereby whereever wherein whereof why\n",
      "``: opening quotation mark\n",
      "    ` ``\n"
     ]
    }
   ],
   "source": [
    "nltk.help.upenn_tagset()"
   ]
  },
  {
   "cell_type": "code",
   "execution_count": 6,
   "metadata": {
    "collapsed": true
   },
   "outputs": [],
   "source": [
    "#build-in pos tagging\n",
    "def pos_tagging(text):\n",
    "    tokens = nltk.word_tokenize(text)\n",
    "    return nltk.pos_tag(tokens)\n",
    "\n",
    "# from https://gist.github.com/onyxfish/322906\n",
    "def extract_entity_names(t):\n",
    "    entity_names = []\n",
    "    \n",
    "    if hasattr(t, 'label') and t.label:\n",
    "        if t.label() == 'NE':\n",
    "            entity_names.append(' '.join([child[0] for child in t]))\n",
    "        else:\n",
    "            for child in t:\n",
    "                entity_names.extend(extract_entity_names(child))\n",
    "\n",
    "    return entity_names\n",
    "\n",
    "# build in ner tagger\n",
    "def ner_build_in(text):\n",
    "    tokens = nltk.word_tokenize(text)\n",
    "    tagged = nltk.pos_tag(tokens) \n",
    "    ne = nltk.ne_chunk(tagged, binary=True)\n",
    "    \n",
    "    entity_names = []\n",
    "    for tree in ne:\n",
    "        entity_names.extend(extract_entity_names(tree))\n",
    "        \n",
    "    return entity_names\n",
    "\n",
    "# custom ner tagger\n",
    "def ner_custom(text):\n",
    "    tokens = nltk.word_tokenize(text)\n",
    "    tagged = nltk.pos_tag(tokens)\n",
    "    entity = []\n",
    "    return_entity = []\n",
    "    for tagged_entry in tagged:\n",
    "        if(tagged_entry[1].startswith(\"NN\") or (entity and tagged_entry[1].startswith(\"IN\"))):\n",
    "            entity.append(tagged_entry)\n",
    "        else:\n",
    "            if(entity) and entity[-1][1].startswith(\"IN\"):\n",
    "                entity.pop()\n",
    "            if(entity and \" \".join(e[0] for e in entity)[0].isupper()):\n",
    "                return_entity.append(\" \".join(e[0] for e in entity))\n",
    "            entity = []\n",
    "            \n",
    "    return return_entity\n",
    "\n",
    "# custom2 ner tagger - different grammar\n",
    "def ner_custom2(text):\n",
    "    tokens = nltk.word_tokenize(text)\n",
    "    tagged = nltk.pos_tag(tokens)        \n",
    "    ne_chunked = nltk.ne_chunk(tagged, binary=True)\n",
    "    return get_all_np(nltk.RegexpParser(r\"NP: {<JJ|JJR|JJS>*<NN|NE>+}\").parse(ne_chunked))"
   ]
  },
  {
   "cell_type": "code",
   "execution_count": 7,
   "metadata": {
    "collapsed": true
   },
   "outputs": [],
   "source": [
    "lines = []\n",
    "chosen_line = 0\n",
    "\n",
    "with open(\"data.txt\") as file:\n",
    "    lines = file.readlines()"
   ]
  },
  {
   "cell_type": "code",
   "execution_count": 8,
   "metadata": {
    "collapsed": false
   },
   "outputs": [
    {
     "name": "stdout",
     "output_type": "stream",
     "text": [
      "I don't watch a lot of TV. I don't watch Game of Thrones or Walking Dead or many of the TV shows that are usually at the top of the popular zeitgeist. Instead, my daily entertainment is usually filled with YouTube videos and on-demand shows from Hulu or Netflix. In almost all respects, I am the perfect candidate to cut the cord. There was only one thing holding me back: baseball. I am a huge San Francisco Giants fan and I have a deep desire to watch games live. With the arrival of YouTube TV (and a few other services) I am now, at long last, finally free.\n",
      "\n"
     ]
    }
   ],
   "source": [
    "print(lines[chosen_line])"
   ]
  },
  {
   "cell_type": "code",
   "execution_count": 10,
   "metadata": {
    "collapsed": false,
    "scrolled": false
   },
   "outputs": [
    {
     "name": "stdout",
     "output_type": "stream",
     "text": [
      "[('Game of Thrones', 1), ('Netflix', 1), ('YouTube videos', 1), ('San Francisco Giants fan', 1), ('TV shows', 1)]\n"
     ]
    }
   ],
   "source": [
    "print(get_sorted_counts(ner_custom(lines[chosen_line])))"
   ]
  },
  {
   "cell_type": "code",
   "execution_count": 11,
   "metadata": {
    "collapsed": false
   },
   "outputs": [
    {
     "name": "stdout",
     "output_type": "stream",
     "text": [
      "[('TV', 2), ('YouTube', 2), ('Netflix', 1), ('Hulu', 1), ('huge San Francisco Giants fan', 1), ('arrival', 1), ('perfect candidate', 1), ('lot', 1), ('on-demand', 1), ('cord', 1), ('popular zeitgeist', 1), ('baseball', 1), ('thing', 1), ('daily entertainment', 1), ('Thrones', 1), ('deep desire', 1), ('top', 1)]\n"
     ]
    }
   ],
   "source": [
    "print(get_sorted_counts(ner_custom2(lines[chosen_line])))"
   ]
  },
  {
   "cell_type": "code",
   "execution_count": 12,
   "metadata": {
    "collapsed": false,
    "scrolled": true
   },
   "outputs": [
    {
     "name": "stdout",
     "output_type": "stream",
     "text": [
      "[(('.', '.'), 7), (('the', 'DT'), 6), (('I', 'PRP'), 6), (('of', 'IN'), 5), (('a', 'DT'), 4), ((',', ','), 4), (('am', 'VBP'), 3), (('watch', 'VB'), 3), (('or', 'CC'), 3), (('and', 'CC'), 3), (('usually', 'RB'), 2), ((\"n't\", 'RB'), 2), (('to', 'TO'), 2), (('do', 'VBP'), 2), (('shows', 'NNS'), 2), (('YouTube', 'NNP'), 2), (('TV', 'NN'), 2), (('at', 'IN'), 2), (('few', 'JJ'), 1), (('videos', 'NNS'), 1), (('back', 'RB'), 1), (('Dead', 'JJ'), 1), (('thing', 'NN'), 1), (('With', 'IN'), 1), (('holding', 'VBG'), 1), (('Netflix', 'NNP'), 1), (('now', 'RB'), 1), (('Walking', 'VBG'), 1), (('is', 'VBZ'), 1), (('There', 'EX'), 1), (('San', 'NNP'), 1), (('Thrones', 'NNP'), 1), (('popular', 'JJ'), 1), (('games', 'NNS'), 1), (('almost', 'RB'), 1), (('zeitgeist', 'NN'), 1), (('have', 'VBP'), 1), (('(', '('), 1), (('with', 'IN'), 1), (('that', 'WDT'), 1), (('cord', 'NN'), 1), (('Instead', 'RB'), 1), (('my', 'PRP$'), 1), (('Giants', 'NNP'), 1), (('filled', 'VBN'), 1), (('cut', 'VB'), 1), (('Francisco', 'NNP'), 1), (('live', 'VBP'), 1), (('on-demand', 'NN'), 1), (('are', 'VBP'), 1), ((')', ')'), 1), (('last', 'JJ'), 1), ((':', ':'), 1), (('me', 'PRP'), 1), (('perfect', 'JJ'), 1), (('In', 'IN'), 1), (('finally', 'RB'), 1), (('only', 'RB'), 1), (('other', 'JJ'), 1), (('entertainment', 'NN'), 1), (('respects', 'NNS'), 1), (('free', 'JJ'), 1), (('Game', 'NNP'), 1), (('services', 'NNS'), 1), (('from', 'IN'), 1), (('baseball', 'NN'), 1), (('one', 'CD'), 1), (('TV', 'NNP'), 1), (('top', 'NN'), 1), (('daily', 'JJ'), 1), (('deep', 'JJ'), 1), (('Hulu', 'NNP'), 1), (('huge', 'JJ'), 1), (('arrival', 'NN'), 1), (('all', 'DT'), 1), (('lot', 'NN'), 1), (('long', 'RB'), 1), (('desire', 'NN'), 1), (('fan', 'NN'), 1), (('many', 'JJ'), 1), (('was', 'VBD'), 1), (('candidate', 'NN'), 1)]\n"
     ]
    }
   ],
   "source": [
    "print(get_sorted_counts(pos_tagging(lines[chosen_line])))"
   ]
  },
  {
   "cell_type": "code",
   "execution_count": 13,
   "metadata": {
    "collapsed": false
   },
   "outputs": [
    {
     "name": "stdout",
     "output_type": "stream",
     "text": [
      "[('YouTube', 2), ('Hulu', 1), ('Thrones', 1), ('Netflix', 1), ('San Francisco Giants', 1)]\n"
     ]
    }
   ],
   "source": [
    "print(get_sorted_counts(ner_build_in(lines[chosen_line])))"
   ]
  },
  {
   "cell_type": "code",
   "execution_count": 14,
   "metadata": {
    "collapsed": false
   },
   "outputs": [
    {
     "name": "stdout",
     "output_type": "stream",
     "text": [
      "[('Game of Thrones', 1), ('Netflix', 1), ('YouTube videos', 1), ('San Francisco Giants fan', 1), ('TV shows', 1)]\n"
     ]
    }
   ],
   "source": [
    "print(get_sorted_counts(ner_custom(lines[chosen_line])))"
   ]
  },
  {
   "cell_type": "code",
   "execution_count": 15,
   "metadata": {
    "collapsed": false,
    "scrolled": true
   },
   "outputs": [
    {
     "name": "stdout",
     "output_type": "stream",
     "text": [
      "Game of Thrones  -  an American fantasy drama television series\n",
      "TV shows  -  a list\n",
      "YouTube videos  -  an American video-sharing website\n",
      "Netflix  -  an American entertainment company\n",
      "San Francisco Giants fan  -  the\n"
     ]
    }
   ],
   "source": [
    "for entity in ner_custom(lines[chosen_line]):\n",
    "    print (entity, \" - \", call_wikipedia(entity))"
   ]
  },
  {
   "cell_type": "code",
   "execution_count": null,
   "metadata": {
    "collapsed": true
   },
   "outputs": [],
   "source": []
  }
 ],
 "metadata": {
  "kernelspec": {
   "display_name": "Python 3",
   "language": "python",
   "name": "python3"
  },
  "language_info": {
   "codemirror_mode": {
    "name": "ipython",
    "version": 3
   },
   "file_extension": ".py",
   "mimetype": "text/x-python",
   "name": "python",
   "nbconvert_exporter": "python",
   "pygments_lexer": "ipython3",
   "version": "3.5.2"
  }
 },
 "nbformat": 4,
 "nbformat_minor": 2
}
